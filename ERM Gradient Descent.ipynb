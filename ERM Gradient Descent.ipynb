{
 "cells": [
  {
   "cell_type": "code",
   "execution_count": 2,
   "id": "722cf395-cf6f-4844-88e8-5c29dda77d5a",
   "metadata": {},
   "outputs": [],
   "source": [
    "import scipy as sp\n",
    "import numpy as np\n",
    "import copy\n",
    "import numpy.random as rnd"
   ]
  },
  {
   "cell_type": "markdown",
   "id": "544c2e39-3454-488d-b09e-16c56ee892c7",
   "metadata": {},
   "source": [
    "The gradient (and loss) as a function :"
   ]
  },
  {
   "cell_type": "code",
   "execution_count": 3,
   "id": "1c748da3-1046-4b6a-b60b-0929ca2c1bcf",
   "metadata": {},
   "outputs": [],
   "source": [
    "def GradERM(X, y, w, v, sigmafunc, Dsigmafunc, LambdaRegularization):\n",
    "    zw = np.matmul(X, w)\n",
    "    zv = np.matmul(X, v)\n",
    "    GradwTotal = np.matmul(np.transpose(X), - np.divide(y - zw,sigmafunc(zv))) + X.shape[0]*LambdaRegularization*w\n",
    "    GradvTotal = (np.matmul(np.transpose(X), np.multiply((np.divide(1,(2*sigmafunc(zv))) - np.divide(np.power((y - zw),2),(2*np.power(sigmafunc(zv),2)))), Dsigmafunc(zv))) \n",
    "                  + X.shape[0]*LambdaRegularization*v)\n",
    "    #print((np.multiply(- np.divide(np.power((y - zw),2),(2*np.power(sigmafunc(zv),2))), Dsigmafunc(zv))))\n",
    "    #print((np.matmul(np.transpose(X), np.multiply(- np.divide(np.power((y - zw),2),(2*np.power(sigmafunc(zv),2))), Dsigmafunc(zv)))))\n",
    "    return(np.stack((GradwTotal, GradvTotal), axis = 1))\n",
    "\n",
    "def LossERM(X, y, w, v, sigmafunc, LambdaRegularization):\n",
    "    zw = np.matmul(X, w)\n",
    "    zv = np.matmul(X, v)\n",
    "    return( np.sum(np.divide(np.power((y - zw),2),(2*sigmafunc(zv))) + np.log(sigmafunc(zv))/2, 0) + X.shape[0]*LambdaRegularization*( np.dot(w,w) + np.dot(v,v) )/2 )"
   ]
  },
  {
   "cell_type": "markdown",
   "id": "fd5a7b98-11c4-4035-a016-76f9f47817cd",
   "metadata": {},
   "source": [
    "The GD step"
   ]
  },
  {
   "cell_type": "code",
   "execution_count": 84,
   "id": "9e7be433-163a-449d-99e1-fcd765350407",
   "metadata": {},
   "outputs": [],
   "source": [
    "def GDStepERM(X, y, wv, sigmafunc, Dsigmafunc, LambdaRegularization, LearningRate):\n",
    "    wv -= LearningRate*GradERM(X, y, wv[:,0], wv[:,1], sigmafunc, Dsigmafunc, LambdaRegularization)\n",
    "    return(LossERM(X, y, wv[:,0], wv[:,1], sigmafunc, LambdaRegularization))"
   ]
  },
  {
   "cell_type": "markdown",
   "id": "770f2398-3907-4981-8400-57f4bc95789a",
   "metadata": {},
   "source": [
    "Full GD function"
   ]
  },
  {
   "cell_type": "code",
   "execution_count": null,
   "id": "1cc3770f-06c7-4789-9423-fb7adb441042",
   "metadata": {},
   "outputs": [],
   "source": [
    "def GDERM(X, y, wv, sigmafunc, Dsigmafunc, LambdaRegularization = 1, LearningRate = 0.02, MaxIter = 1e4, EpsConvergence = 1e-6, Verbose = True, VerboseRate = 100):\n",
    "    Conv = 1\n",
    "    NIter = 0\n",
    "    Losses = [LossERM(X, y, wv[:,0], wv[:,1], sigmafunc, LambdaRegularization)]\n",
    "    print(\"Iteration %s\" % NIter)\n",
    "    print(\"Current loss %s\" % Losses[NIter])\n",
    "    while((NIter < MaxIter) and (Conv > EpsConvergence)):\n",
    "        Losses.append(GDStepERM(X, y, wv, sigmafunc, Dsigmafunc, LambdaRegularization, LearningRate))\n",
    "        NIter = NIter + 1\n",
    "        Conv = np.abs(Losses[NIter] - Losses[NIter-1])/Losses[NIter]\n",
    "        if(Verbose and NIter%VerboseRate == 0):\n",
    "            print(\"Iteration %s\" % NIter)\n",
    "            print(\"Current loss %s\" % Losses[NIter])\n",
    "            print(\"Current convergence criterion %s\" % Conv)\n",
    "    print(\"Iteration %s\" % NIter)\n",
    "    print(\"Current loss %s\" % Losses[NIter])\n",
    "    print(\"Current convergence criterion %s\" % Conv)\n",
    "    return(np.array(Losses))\n",
    "        "
   ]
  },
  {
   "cell_type": "markdown",
   "id": "655d7f0f-e219-4ff5-9fbe-9459030b19cf",
   "metadata": {},
   "source": [
    "Sigma Functions for $\\sigma(z_v) = z_v^2$"
   ]
  },
  {
   "cell_type": "code",
   "execution_count": 6,
   "id": "62e3bf96-7515-4880-9ed0-14d39e0e89a6",
   "metadata": {},
   "outputs": [],
   "source": [
    "def sigmaSquare(zv):\n",
    "    return(np.power(zv,2))\n",
    "\n",
    "def DsigmaSquare(zv):\n",
    "    return(2*zv)"
   ]
  },
  {
   "cell_type": "markdown",
   "id": "f7ca6cf7",
   "metadata": {},
   "source": [
    "Sigma Functions for $\\sigma(z_v) = \\log(1 + e^{z_v})$"
   ]
  },
  {
   "cell_type": "code",
   "execution_count": 7,
   "id": "c06c5df2",
   "metadata": {},
   "outputs": [],
   "source": [
    "def sigmaSoftplus(zv):\n",
    "    return(np.log(1 + np.exp(zv)))\n",
    "\n",
    "def DsigmaSoftplus(zv):\n",
    "    return(np.divide(1, 1 + np.exp(-zv)))"
   ]
  },
  {
   "cell_type": "markdown",
   "id": "d0875ab9-2903-4f59-8e0e-cca596270279",
   "metadata": {},
   "source": [
    "Main variables "
   ]
  },
  {
   "cell_type": "code",
   "execution_count": 82,
   "id": "a11badb1-80aa-4c41-8df3-32cb085d1ffa",
   "metadata": {},
   "outputs": [],
   "source": [
    "d = 100\n",
    "M = 1000\n",
    "alpha = M/d\n",
    "LearningRate = 0.00002\n",
    "LambdaRegularization = 1\n",
    "X = rnd.normal(0, 1/np.sqrt(d), size = (M, d))\n",
    "wvTrue = rnd.normal(0, 1, size = (d, 2))\n",
    "wvLearned = rnd.normal(0, 1, size = (d, 2))\n",
    "yTrue = np.matmul(X, wvTrue[:,0])\n",
    "yNoisy = yTrue + rnd.normal(0, np.sqrt(sigmaSoftplus(np.matmul(X, wvTrue[:,1]))))"
   ]
  },
  {
   "cell_type": "markdown",
   "id": "a980db9a-b824-499a-b6db-9efb914bf679",
   "metadata": {},
   "source": [
    "Runner"
   ]
  },
  {
   "cell_type": "code",
   "execution_count": 83,
   "id": "45600fcc-9f39-4c53-90a2-61291e9f271a",
   "metadata": {},
   "outputs": [
    {
     "name": "stdout",
     "output_type": "stream",
     "text": [
      "Iteration 0\n",
      "Current loss 107643.31421119397\n",
      "Iteration 50\n",
      "Current loss 14624.755275236885\n",
      "Current convergence criterion 0.0389425364164676\n",
      "Iteration 100\n",
      "Current loss 2758.751111034706\n",
      "Current convergence criterion 0.026679766292326212\n",
      "Iteration 150\n",
      "Current loss 1222.980791802717\n",
      "Current convergence criterion 0.007800500042422977\n",
      "Iteration 200\n",
      "Current loss 1023.8754854820069\n",
      "Current convergence criterion 0.001208325274933448\n",
      "Iteration 250\n",
      "Current loss 998.0521146432887\n",
      "Current convergence criterion 0.00016079555810851126\n",
      "Iteration 300\n",
      "Current loss 994.7021499599063\n",
      "Current convergence criterion 2.0932311387582293e-05\n",
      "Iteration 350\n",
      "Current loss 994.2674873097054\n",
      "Current convergence criterion 2.7175188172358565e-06\n",
      "Iteration 375\n",
      "Current loss 994.2260183722535\n",
      "Current convergence criterion 9.790479897175527e-07\n"
     ]
    }
   ],
   "source": [
    "Losses = GDERM(X, yNoisy, wvLearned, sigmaSoftplus, DsigmaSoftplus, LearningRate=LearningRate, MaxIter = 1000, VerboseRate = 50)"
   ]
  },
  {
   "cell_type": "code",
   "execution_count": 85,
   "id": "a2e13344-b574-40f8-9fb9-332827b0a428",
   "metadata": {},
   "outputs": [
    {
     "data": {
      "text/plain": [
       "array([107643.31421119, 103293.97569731,  99126.33021243,  95132.32883084,\n",
       "        91304.3315308 ,  87635.08014051,  84117.67382376,  80745.54678414,\n",
       "        77512.44791611,  74412.42217158,  71439.79344467,  68589.14880518,\n",
       "        65855.32393493,  63233.38964098,  60718.63933617,  58306.57739182,\n",
       "        55992.90827912,  53773.52642628,  51644.50672701,  49602.09564359,\n",
       "        47642.70285401,  45762.89339867,  43959.38028651,  42229.01752494,\n",
       "        40568.79354156,  38975.8249688 ,  37447.35076549,  35980.72665182,\n",
       "        34573.41983632,  33223.00401544,  31927.15462806,  30683.64434863,\n",
       "        29490.3388043 ,  28345.19250208,  27246.2449539 ,  26191.61698769,\n",
       "        25179.50723387,  24208.18877744,  23276.00596639,  22381.37136791,\n",
       "        21522.76286455,  20698.72088274,  19907.8457469 ,  19148.79515273,\n",
       "        18420.28175332,  17721.07085284,  17049.97820203,  16405.86789084,\n",
       "        15787.65033328,  15194.28034012,  14624.75527524,  14078.11329164,\n",
       "        13553.43164349,  13049.82507047,  12566.44425131,  12102.47432314,\n",
       "        11657.1334638 ,  11229.67153418,  10819.36877795,  10425.53457604,\n",
       "        10047.50625349,   9684.64793638,   9336.34945649,   9002.02530181,\n",
       "         8681.11361072,   8373.07520803,   8077.39268105,   7793.56949394,\n",
       "         7521.12913873,   7259.61432147,   7008.58618182,   6767.62354502,\n",
       "         6536.3222044 ,   6314.2942336 ,   6101.16732687,   5896.5841665 ,\n",
       "         5700.20181619,   5511.69113912,   5330.73623999,   5157.03392969,\n",
       "         4990.29321192,   4830.23479072,   4676.59059801,   4529.10334048,\n",
       "         4387.52606481,   4251.62174059,   4121.16286024,   3995.93105513,\n",
       "         3875.71672727,   3760.31869597,   3649.54385877,   3543.20686622,\n",
       "         3441.12980967,   3343.14192184,   3249.07928942,   3158.78457732,\n",
       "         3072.10676405,   2988.90088785,   2909.02780298,   2832.35394594,\n",
       "         2758.75111103,   2688.09623512,   2620.27119089,   2555.16258861,\n",
       "         2492.66158578,   2432.66370449,   2375.06865613,   2319.7801732 ,\n",
       "         2266.70584779,   2215.75697668,   2166.84841262,   2119.89842156,\n",
       "         2074.82854574,   2031.56347212,   1990.03090625,   1950.16145117,\n",
       "         1911.88849109,   1875.1480799 ,   1839.87883404,   1806.02182972,\n",
       "         1773.52050426,   1742.32056141,   1712.36988046,   1683.61842901,\n",
       "         1656.01817921,   1629.52302742,   1604.08871704,   1579.67276449,\n",
       "         1556.23438808,   1533.73443987,   1512.13534011,   1491.40101442,\n",
       "         1471.49683344,   1452.38955493,   1434.04726817,   1416.4393406 ,\n",
       "         1399.53636661,   1383.31011834,   1367.73349854,   1352.78049521,\n",
       "         1338.42613817,   1324.64645728,   1311.41844239,   1298.72000487,\n",
       "         1286.52994069,   1274.827895  ,   1263.59432809,   1252.81048274,\n",
       "         1242.45835289,   1232.52065352,   1222.9807918 ,   1213.82283935,\n",
       "         1205.0315056 ,   1196.59211228,   1188.49056891,   1180.71334917,\n",
       "         1173.24746842,   1166.08046191,   1159.20036402,   1152.59568822,\n",
       "         1146.25540793,   1140.16893807,   1134.32611738,   1128.71719147,\n",
       "         1123.3327965 ,   1118.16394354,   1113.20200357,   1108.43869307,\n",
       "         1103.86606017,   1099.47647139,   1095.26259885,   1091.21740808,\n",
       "         1087.33414625,   1083.60633087,   1080.02773902,   1076.59239689,\n",
       "         1073.29456986,   1070.1287529 ,   1067.08966137,   1064.17222221,\n",
       "         1061.37156545,   1058.6830161 ,   1056.10208634,   1053.62446799,\n",
       "         1051.24602538,   1048.9627884 ,   1046.77094586,   1044.66683916,\n",
       "         1042.64695618,   1040.70792539,   1038.84651023,   1037.05960372,\n",
       "         1035.34422326,   1033.69750566,   1032.11670232,   1030.59917472,\n",
       "         1029.14238994,   1027.74391645,   1026.40142009,   1025.11266011,\n",
       "         1023.87548548,   1022.68783128,   1021.54771525,   1020.45323447,\n",
       "         1019.40256222,   1018.39394488,   1017.42569906,   1016.49620873,\n",
       "         1015.60392257,   1014.74735136,   1013.92506547,   1013.13569253,\n",
       "         1012.37791509,   1011.65046844,   1010.95213851,   1010.28175981,\n",
       "         1009.63821352,   1009.02042558,   1008.42736497,   1007.85804191,\n",
       "         1007.31150623,   1006.78684582,   1006.28318508,   1005.79968345,\n",
       "         1005.33553401,   1004.88996216,   1004.46222429,   1004.05160656,\n",
       "         1003.65742372,   1003.27901791,   1002.91575766,   1002.56703672,\n",
       "         1002.23227315,   1001.91090829,   1001.60240582,   1001.30625093,\n",
       "         1001.02194937,   1000.74902673,   1000.48702753,   1000.23551457,\n",
       "          999.99406811,    999.76228525,    999.5397792 ,    999.32617863,\n",
       "          999.12112711,    998.92428247,    998.7353162 ,    998.55391299,\n",
       "          998.37977012,    998.21259699,    998.05211464,    997.89805528,\n",
       "          997.75016182,    997.60818748,    997.47189534,    997.34105798,\n",
       "          997.21545707,    997.09488303,    996.97913465,    996.86801881,\n",
       "          996.76135007,    996.65895046,    996.5606491 ,    996.46628197,\n",
       "          996.3756916 ,    996.28872683,    996.20524255,    996.12509946,\n",
       "          996.04816384,    995.9743073 ,    995.90340662,    995.83534349,\n",
       "          995.77000435,    995.70728016,    995.64706628,    995.58926222,\n",
       "          995.53377155,    995.48050168,    995.42936371,    995.38027234,\n",
       "          995.33314564,    995.28790498,    995.24447489,    995.2027829 ,\n",
       "          995.16275944,    995.12433774,    995.08745369,    995.05204575,\n",
       "          995.01805485,    994.98542426,    994.95409956,    994.92402847,\n",
       "          994.89516082,    994.86744846,    994.84084514,    994.81530647,\n",
       "          994.79078985,    994.76725438,    994.74466079,    994.72297138,\n",
       "          994.70214996,    994.6821618 ,    994.66297356,    994.64455321,\n",
       "          994.62687002,    994.6098945 ,    994.59359832,    994.5779543 ,\n",
       "          994.56293633,    994.54851936,    994.53467933,    994.52139317,\n",
       "          994.5086387 ,    994.49639464,    994.48464057,    994.47335687,\n",
       "          994.46252473,    994.45212607,    994.44214354,    994.4325605 ,\n",
       "          994.42336095,    994.41452954,    994.40605155,    994.39791283,\n",
       "          994.3900998 ,    994.38259943,    994.3753992 ,    994.36848711,\n",
       "          994.36185162,    994.35548167,    994.34936662,    994.34349628,\n",
       "          994.33786085,    994.33245094,    994.32725751,    994.32227191,\n",
       "          994.31748582,    994.31289125,    994.30848054,    994.30424633,\n",
       "          994.30018155,    994.29627944,    994.29253347,    994.28893741,\n",
       "          994.28548524,    994.28217122,    994.27898981,    994.27593571,\n",
       "          994.27300382,    994.27018925,    994.26748731,    994.26489349,\n",
       "          994.26240346,    994.26001307,    994.25771834,    994.25551543,\n",
       "          994.25340067,    994.25137053,    994.24942163,    994.24755071,\n",
       "          994.24575466,    994.24403048,    994.24237529,    994.24078633,\n",
       "          994.23926096,    994.23779662,    994.23639088,    994.23504138,\n",
       "          994.23374589,    994.23250223,    994.23130834,    994.23016222,\n",
       "          994.22906197,    994.22800574,    994.22699177,    994.22601837])"
      ]
     },
     "execution_count": 85,
     "metadata": {},
     "output_type": "execute_result"
    }
   ],
   "source": [
    "Losses"
   ]
  }
 ],
 "metadata": {
  "kernelspec": {
   "display_name": "Python 3",
   "language": "python",
   "name": "python3"
  },
  "language_info": {
   "codemirror_mode": {
    "name": "ipython",
    "version": 3
   },
   "file_extension": ".py",
   "mimetype": "text/x-python",
   "name": "python",
   "nbconvert_exporter": "python",
   "pygments_lexer": "ipython3",
   "version": "3.11.2"
  }
 },
 "nbformat": 4,
 "nbformat_minor": 5
}
